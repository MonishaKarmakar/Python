{
 "cells": [
  {
   "cell_type": "code",
   "execution_count": 1,
   "metadata": {},
   "outputs": [],
   "source": [
    "#Operating System command\n",
    "import os"
   ]
  },
  {
   "cell_type": "code",
   "execution_count": 3,
   "metadata": {},
   "outputs": [
    {
     "data": {
      "text/plain": [
       "'C:\\\\Users\\\\KIIT\\\\Documents\\\\python practise\\\\Python Basics'"
      ]
     },
     "execution_count": 3,
     "metadata": {},
     "output_type": "execute_result"
    }
   ],
   "source": [
    "pwd() #return present working directory"
   ]
  },
  {
   "cell_type": "code",
   "execution_count": 4,
   "metadata": {},
   "outputs": [
    {
     "data": {
      "text/plain": [
       "'C:\\\\Users\\\\KIIT\\\\Documents\\\\python practise\\\\Python Basics'"
      ]
     },
     "execution_count": 4,
     "metadata": {},
     "output_type": "execute_result"
    }
   ],
   "source": [
    "os.getcwd() #return current working directory"
   ]
  },
  {
   "cell_type": "code",
   "execution_count": 5,
   "metadata": {},
   "outputs": [
    {
     "data": {
      "text/plain": [
       "['.ipynb_checkpoints',\n",
       " '03-04-21.ipynb',\n",
       " '06-03-21.ipynb',\n",
       " '07-03-21.ipynb',\n",
       " '13-03-21.ipynb',\n",
       " '13th jan python string and list manupulation.ipynb',\n",
       " '20-03-21.ipynb',\n",
       " '21-03-21.ipynb',\n",
       " 'Basic.ipynb',\n",
       " 'df_excel',\n",
       " 'learning(mosl).ipynb',\n",
       " 'list manupulaton.ipynb',\n",
       " 'MatplotLib.ipynb',\n",
       " 'Numpy.ipynb',\n",
       " 'p1.xlsx',\n",
       " 'p2.xlsx',\n",
       " 'Pandas.ipynb',\n",
       " 'Test.csv',\n",
       " 'test.png',\n",
       " 'text file.ipynb',\n",
       " 'text.txt',\n",
       " 'Untitled.ipynb',\n",
       " 'Untitled1.ipynb',\n",
       " 'Untitled2.ipynb',\n",
       " 'Untitled3.ipynb']"
      ]
     },
     "execution_count": 5,
     "metadata": {},
     "output_type": "execute_result"
    }
   ],
   "source": [
    "os.listdir() #list of all the file present in the working directory"
   ]
  },
  {
   "cell_type": "code",
   "execution_count": 8,
   "metadata": {},
   "outputs": [
    {
     "data": {
      "text/plain": [
       "['.RData',\n",
       " '.Rhistory',\n",
       " 'ATB',\n",
       " 'BAV',\n",
       " 'Book122.xlsx',\n",
       " 'Book1bav.xlsx',\n",
       " 'cache',\n",
       " 'Certificate',\n",
       " 'CF2_project',\n",
       " 'Custom Office Templates',\n",
       " 'debug.log',\n",
       " 'desktop.ini',\n",
       " 'Flight Fare Prediction',\n",
       " 'Flight_Fare_Prediction',\n",
       " 'FLIP',\n",
       " 'Indian-IndustryAnalysis.docx',\n",
       " 'IndustryAnalysis',\n",
       " 'KingsoftData',\n",
       " 'mentor_meetingcompanies.docx',\n",
       " 'My Music',\n",
       " 'My Pictures',\n",
       " 'My Tableau Repository',\n",
       " 'My Videos',\n",
       " 'p1.docx',\n",
       " 'programmingR',\n",
       " 'python practise',\n",
       " 'Python Scripts',\n",
       " 'R',\n",
       " 'Report Title.docx',\n",
       " 'SAPM',\n",
       " 'While collecting data.docx',\n",
       " 'Zoom']"
      ]
     },
     "execution_count": 8,
     "metadata": {},
     "output_type": "execute_result"
    }
   ],
   "source": [
    "os.listdir(\"C:\\\\Users\\\\KIIT\\\\Documents\") #use double forward slash or single backward slash for windows os"
   ]
  },
  {
   "cell_type": "code",
   "execution_count": 9,
   "metadata": {},
   "outputs": [
    {
     "data": {
      "text/plain": [
       "'C:\\\\Users\\\\KIIT\\\\Documents\\\\python practise\\\\Python Basics'"
      ]
     },
     "execution_count": 9,
     "metadata": {},
     "output_type": "execute_result"
    }
   ],
   "source": [
    "pwd()"
   ]
  },
  {
   "cell_type": "code",
   "execution_count": 10,
   "metadata": {},
   "outputs": [],
   "source": [
    "os.chdir(\"C:\\\\Users\\\\KIIT\\\\Documents\") #change the directory"
   ]
  },
  {
   "cell_type": "code",
   "execution_count": 11,
   "metadata": {},
   "outputs": [
    {
     "data": {
      "text/plain": [
       "'C:\\\\Users\\\\KIIT\\\\Documents'"
      ]
     },
     "execution_count": 11,
     "metadata": {},
     "output_type": "execute_result"
    }
   ],
   "source": [
    "pwd()"
   ]
  },
  {
   "cell_type": "code",
   "execution_count": 12,
   "metadata": {},
   "outputs": [],
   "source": [
    "os.chdir(\"C:\\\\Users\\\\KIIT\\\\Documents\\\\python practise\\\\Python Basics\")"
   ]
  },
  {
   "cell_type": "code",
   "execution_count": 13,
   "metadata": {},
   "outputs": [
    {
     "data": {
      "text/plain": [
       "'C:\\\\Users\\\\KIIT\\\\Documents\\\\python practise\\\\Python Basics'"
      ]
     },
     "execution_count": 13,
     "metadata": {},
     "output_type": "execute_result"
    }
   ],
   "source": [
    "pwd()"
   ]
  },
  {
   "cell_type": "code",
   "execution_count": 27,
   "metadata": {},
   "outputs": [],
   "source": [
    "os.mkdir(\"monisha\") #create a new directory on the present direcory"
   ]
  },
  {
   "cell_type": "code",
   "execution_count": 15,
   "metadata": {},
   "outputs": [
    {
     "data": {
      "text/plain": [
       "['.ipynb_checkpoints',\n",
       " '03-04-21.ipynb',\n",
       " '06-03-21.ipynb',\n",
       " '07-03-21.ipynb',\n",
       " '13-03-21.ipynb',\n",
       " '13th jan python string and list manupulation.ipynb',\n",
       " '20-03-21.ipynb',\n",
       " '21-03-21.ipynb',\n",
       " 'Basic.ipynb',\n",
       " 'df_excel',\n",
       " 'learning(mosl).ipynb',\n",
       " 'list manupulaton.ipynb',\n",
       " 'MatplotLib.ipynb',\n",
       " 'monisha',\n",
       " 'Numpy.ipynb',\n",
       " 'p1.xlsx',\n",
       " 'p2.xlsx',\n",
       " 'Pandas.ipynb',\n",
       " 'Test.csv',\n",
       " 'test.png',\n",
       " 'text file.ipynb',\n",
       " 'text.txt',\n",
       " 'Untitled.ipynb',\n",
       " 'Untitled1.ipynb',\n",
       " 'Untitled2.ipynb',\n",
       " 'Untitled3.ipynb']"
      ]
     },
     "execution_count": 15,
     "metadata": {},
     "output_type": "execute_result"
    }
   ],
   "source": [
    "\n",
    "os.listdir()"
   ]
  },
  {
   "cell_type": "code",
   "execution_count": 19,
   "metadata": {},
   "outputs": [
    {
     "name": "stdout",
     "output_type": "stream",
     "text": [
      "the required file is present directory\n",
      "This text file is for normal file operation on python\n",
      "\n",
      "\n",
      "\n",
      "\n",
      "\n",
      "Data science is an inter-disciplinary field that uses scientific methods, processes, algorithms and systems to extract knowledge and insights from structured and unstructured data,and apply knowledge and actionable insights from data across a broad range of application domains. \n",
      "\n",
      "Data science is related to data mining, machine learning and big data.\n",
      "\n",
      "\n",
      "\n",
      "Data science is a \"concept to unify statistics, data analysis, informatics, and their related methods\" in order to \"understand and analyze actual phenomena\" with data.\n",
      "\n",
      "It uses techniques and theories drawn from many fields within the context of mathematics, statistics, computer science, information science, and domain knowledge. \n",
      "\n",
      "Turing award winner Jim Gray imagined data science as a \"fourth paradigm\" of science (empirical, theoretical, computational and now data-driven) and asserted that \"everything about science is changing because of the impact of information technology\" and the data deluge.\n",
      "\n",
      "adding another linethis is able to write the extra text\n"
     ]
    }
   ],
   "source": [
    "#to check weather the file is availabe in the directory or not\n",
    "if \"text.txt\" in os.listdir():\n",
    "    print(\"the required file is present directory\")\n",
    "    f = open(\"text.txt\", 'r+')\n",
    "    for i in f:\n",
    "        print(i)\n",
    "else:\n",
    "    print(\"The required flin is not in the present directory\")"
   ]
  },
  {
   "cell_type": "code",
   "execution_count": 20,
   "metadata": {},
   "outputs": [],
   "source": [
    "if not os.path.isdir(\"moni\"):\n",
    "    os.mkdir('moni')"
   ]
  },
  {
   "cell_type": "code",
   "execution_count": 21,
   "metadata": {},
   "outputs": [],
   "source": [
    "os.rename('moni',' test1')"
   ]
  },
  {
   "cell_type": "code",
   "execution_count": 35,
   "metadata": {},
   "outputs": [],
   "source": [
    "os.rmdir(\"monisha\") #remove the directory"
   ]
  },
  {
   "cell_type": "code",
   "execution_count": 26,
   "metadata": {},
   "outputs": [],
   "source": [
    " import shutil #to move the file"
   ]
  },
  {
   "cell_type": "code",
   "execution_count": 28,
   "metadata": {},
   "outputs": [],
   "source": [
    "#shutil.move('old directory', 'new location')"
   ]
  },
  {
   "cell_type": "code",
   "execution_count": 36,
   "metadata": {},
   "outputs": [],
   "source": [
    "os.mkdir('New directory')"
   ]
  },
  {
   "cell_type": "code",
   "execution_count": 38,
   "metadata": {},
   "outputs": [],
   "source": [
    "f= open(\"file\",'w')"
   ]
  },
  {
   "cell_type": "code",
   "execution_count": 40,
   "metadata": {},
   "outputs": [
    {
     "data": {
      "text/plain": [
       "'C:\\\\Users\\\\KIIT\\\\Documents\\\\python practise\\\\Python Basics'"
      ]
     },
     "execution_count": 40,
     "metadata": {},
     "output_type": "execute_result"
    }
   ],
   "source": [
    "pwd()"
   ]
  },
  {
   "cell_type": "code",
   "execution_count": 42,
   "metadata": {},
   "outputs": [
    {
     "name": "stdout",
     "output_type": "stream",
     "text": [
      "My name is Steve Dias\n",
      "My name is Steve Dias\n",
      "My name is Steve Dias\n",
      "My name is Steve Dias\n",
      "My name is Steve Dias\n",
      "My name is Steve Dias\n",
      "My name is Steve Dias\n",
      "My name is Steve Dias\n",
      "My name is Steve Dias\n",
      "My name is Steve Dias\n",
      "['My name is Steve Dias', 'My name is Steve Dias', 'My name is Steve Dias', 'My name is Steve Dias', 'My name is Steve Dias', 'My name is Steve Dias', 'My name is Steve Dias', 'My name is Steve Dias', 'My name is Steve Dias', 'My name is Steve Dias']\n"
     ]
    }
   ],
   "source": [
    "os.mkdir(\"Steve\")\n",
    "os.chdir(os.getcwd()+\"\\Steve\")\n",
    "for i in range(10):\n",
    "    file = \"test\"+str(i)+\".txt\"\n",
    "    f = open(file, 'w')\n",
    "    f.write(\"My name is Steve Dias\")\n",
    "    f.close()\n",
    "\n",
    "for i in range(10):\n",
    "    file = \"test\"+str(i)+\".txt\"\n",
    "    f = open(file, 'r')\n",
    "    data = f.read()\n",
    "    f.close()\n",
    "    print(data)\n",
    "\n",
    "l = []\n",
    "for i in range(10):\n",
    "    file = \"test\"+str(i)+\".txt\"\n",
    "    f = open(file, 'r')\n",
    "    l.append(f.read())\n",
    "    f.close()\n",
    "    \n",
    "print(l)\n",
    "\n",
    "f = open('new_file.txt', 'w')\n",
    "for i in l:\n",
    "    f.write(i)\n",
    "f.close()\n",
    "\n"
   ]
  },
  {
   "cell_type": "code",
   "execution_count": null,
   "metadata": {},
   "outputs": [],
   "source": []
  }
 ],
 "metadata": {
  "kernelspec": {
   "display_name": "Python 3",
   "language": "python",
   "name": "python3"
  },
  "language_info": {
   "codemirror_mode": {
    "name": "ipython",
    "version": 3
   },
   "file_extension": ".py",
   "mimetype": "text/x-python",
   "name": "python",
   "nbconvert_exporter": "python",
   "pygments_lexer": "ipython3",
   "version": "3.8.5"
  }
 },
 "nbformat": 4,
 "nbformat_minor": 4
}
